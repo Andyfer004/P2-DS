{
  "nbformat": 4,
  "nbformat_minor": 0,
  "metadata": {
    "colab": {
      "provenance": [],
      "authorship_tag": "ABX9TyN0i3RhuDx9kuV0Zg9N2MOp",
      "include_colab_link": true
    },
    "kernelspec": {
      "name": "python3",
      "display_name": "Python 3"
    },
    "language_info": {
      "name": "python"
    }
  },
  "cells": [
    {
      "cell_type": "markdown",
      "metadata": {
        "id": "view-in-github",
        "colab_type": "text"
      },
      "source": [
        "<a href=\"https://colab.research.google.com/github/Andyfer004/P2-DS/blob/main/P2_DS.ipynb\" target=\"_parent\"><img src=\"https://colab.research.google.com/assets/colab-badge.svg\" alt=\"Open In Colab\"/></a>"
      ]
    },
    {
      "cell_type": "markdown",
      "source": [
        "# Universidad del Valle de Guatemala  \n",
        "## Facultad de Ingeniería  \n",
        "### Departamento de Ciencias de la Computación  \n",
        "\n",
        "\n",
        "## Proyecto 2 – Análisis Exploratorio de Datos  \n",
        "**Curso:** CC3084 – Data Science  \n",
        "**Semestre:** II – 2025  \n",
        "\n",
        "**Tema seleccionado (Reto 19):** Clasificación de los orígenes de un coágulo de sangre en un accidente cerebrovascular  \n",
        "\n",
        "**Integrantes del grupo:**  \n",
        "- Andy Fuentes – 22944  \n",
        "- Gabriel Paz – 221087  \n",
        "- Davis Roldán – 22672  \n",
        "- Jose Marchena – Carné  \n",
        "\n",
        "**Catedrático:** Prof. Luis Furlán  \n",
        "\n",
        "**Fecha de entrega:** 14 de septiembre de 2025  \n"
      ],
      "metadata": {
        "id": "88z8ALjoI9jl"
      }
    },
    {
      "cell_type": "markdown",
      "source": [
        "## Introducción\n",
        "\n",
        "La Ciencia de Datos permite abordar problemas complejos en distintas áreas, incluyendo la medicina.  \n",
        "En este proyecto se trabajará con datos del **Mayo Clinic STRIP AI Challenge**, cuyo objetivo es clasificar el origen de trombos en pacientes con accidente cerebrovascular isquémico.  \n",
        "\n",
        "El análisis se centra en diferenciar dos tipos principales de etiología:  \n",
        "- **Cardioembólico (CE)**: coágulos originados en el corazón.  \n",
        "- **Ateroesclerosis de arteria grande (LAA)**: coágulos formados en arterias cerebrales principales.  \n",
        "\n",
        "Un diagnóstico temprano y preciso del origen del coágulo es crucial, ya que permite diseñar **estrategias de prevención secundaria** y tratamientos más efectivos, reduciendo el riesgo de recurrencia del evento.  \n",
        "\n",
        "Para alcanzar este objetivo, se llevará a cabo un **Análisis Exploratorio de Datos (EDA)** sobre imágenes histopatológicas (Whole Slide Images – WSI), identificando patrones, distribuciones y características relevantes que preparen la base para el modelado posterior."
      ],
      "metadata": {
        "id": "YocVQIRYJAnJ"
      }
    },
    {
      "cell_type": "markdown",
      "source": [
        "## Situación problemática\n",
        "\n",
        "El accidente cerebrovascular isquémico (ACV) es una de las principales causas de discapacidad y muerte a nivel mundial.  \n",
        "Una parte importante de los ACV se origina en la **formación de coágulos (trombos)** que obstruyen el flujo sanguíneo al cerebro.  \n",
        "Identificar el **origen del trombo** es crítico:  \n",
        "\n",
        "- **Cardioembólico (CE):** originado en el corazón, suele requerir anticoagulación.  \n",
        "- **Ateroesclerosis de arteria grande (LAA):** formado en arterias principales, sugiere tratamiento antiagregante y control de factores de riesgo.  \n",
        "\n",
        "El reto radica en que, aun después de estudios clínicos e imagenológicos, el **origen del trombo muchas veces queda indeterminado**, lo que dificulta aplicar la estrategia de prevención más adecuada.\n",
        "\n",
        "\n",
        "## Problema científico\n",
        "\n",
        "¿Es posible identificar **patrones histológicos cuantificables** en imágenes completas de trombos (Whole Slide Images) que permitan a un modelo de Ciencia de Datos **clasificar de forma confiable** su origen en **CE o LAA**?\n",
        "\n",
        "\n",
        "## Objetivos\n",
        "\n",
        "**Objetivo general**  \n",
        "Desarrollar un análisis exploratorio de datos (EDA) sobre las imágenes histopatológicas de trombos, con el fin de identificar patrones y características relevantes que preparen la base para un modelo de clasificación CE vs LAA.\n",
        "\n",
        "**Objetivos específicos**  \n",
        "1. Describir la estructura del dataset, incluyendo número de casos, distribución por clase y metadatos asociados.  \n",
        "2. Implementar técnicas de preprocesamiento para filtrar tiles no informativos (fondo, blur, bajo tejido) y normalizar la tinción.  \n",
        "3. Explorar métricas básicas de color, textura y cobertura de tejido para cada clase.  \n",
        "4. Visualizar los datos mediante histogramas, boxplots y reducciones de dimensionalidad (UMAP/t-SNE) para detectar posibles separaciones entre clases."
      ],
      "metadata": {
        "id": "oWv0ghfJJCdY"
      }
    },
    {
      "cell_type": "markdown",
      "source": [
        "## Investigación preliminar\n",
        "\n",
        "### Contexto médico\n",
        "El **accidente cerebrovascular isquémico (ACV)** ocurre cuando un coágulo interrumpe el flujo sanguíneo al cerebro.  \n",
        "Existen varias causas, pero dos de las más frecuentes son:  \n",
        "\n",
        "- **Cardioembólico (CE):** coágulos que se originan en el corazón, por ejemplo a raíz de fibrilación auricular o insuficiencia cardíaca.  \n",
        "- **Ateroesclerosis de arteria grande (LAA):** trombos formados en arterias cerebrales principales debido a placas ateroscleróticas.  \n",
        "\n",
        "La distinción entre ambos es esencial, ya que determina el tratamiento: anticoagulación para CE vs. antiagregación y control de factores de riesgo para LAA.  \n",
        "\n",
        "### Imágenes histopatológicas\n",
        "En el reto se utilizan **Whole Slide Images (WSI)** de trombos extraídos mediante trombectomía.  \n",
        "Estas imágenes se obtienen con tinción **Hematoxilina & Eosina (H&E)**, que resalta estructuras celulares:  \n",
        "- Hematoxilina → tiñe núcleos de color azul/púrpura.  \n",
        "- Eosina → tiñe citoplasma y componentes extracelulares de rosado.  \n",
        "\n",
        "### Relevancia del análisis computacional\n",
        "El análisis manual de WSI es complejo y requiere mucho tiempo de especialistas.  \n",
        "Aquí entra la **Ciencia de Datos**, que permite:  \n",
        "- Fragmentar imágenes en **tiles** para su estudio.  \n",
        "- Aplicar técnicas de **preprocesamiento** como normalización de color y eliminación de ruido.  \n",
        "- Extraer **características cuantitativas** (textura, color, cobertura de tejido).  \n",
        "- Generar representaciones que faciliten la clasificación con modelos de Visión por Computadora.\n",
        "\n",
        "### Estado del arte en Visión Artificial para WSI\n",
        "- Se emplean **CNNs** preentrenadas (ResNet, EfficientNet) para extraer embeddings.  \n",
        "- Se utilizan técnicas de **Multiple Instance Learning (MIL)** donde cada WSI se representa como conjunto de tiles.  \n",
        "- Métodos recientes incluyen **transformers** y mecanismos de **atención**, que aprenden qué regiones de la WSI son más informativas para predecir el origen del trombo.  \n",
        "\n",
        "En este proyecto, no se busca aún entrenar un modelo complejo, sino realizar un **análisis exploratorio** que evidencie patrones básicos y prepare los datos para etapas posteriores."
      ],
      "metadata": {
        "id": "GlFmKXrdJFVQ"
      }
    }
  ]
}